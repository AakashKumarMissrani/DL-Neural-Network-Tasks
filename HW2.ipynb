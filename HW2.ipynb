{
 "cells": [
  {
   "cell_type": "code",
   "execution_count": 128,
   "id": "412e8c4f",
   "metadata": {},
   "outputs": [],
   "source": [
    "import numpy as np\n",
    "import torch\n",
    "from torch.autograd import Variable\n",
    "import unittest\n",
    "from torch.utils.data import DataLoader\n",
    "from torchvision.datasets import MNIST\n",
    "from torchvision import transforms\n",
    "import matplotlib.pyplot as plt\n",
    "from tqdm import tqdm\n",
    "from sklearn.metrics import accuracy_score"
   ]
  },
  {
   "cell_type": "markdown",
   "id": "3fdf7a5e",
   "metadata": {},
   "source": [
    "## HW2: Custom Neural Network Layers & MNIST Binary Classification\n"
   ]
  },
  {
   "cell_type": "code",
   "execution_count": 129,
   "id": "7da7d1f6",
   "metadata": {},
   "outputs": [],
   "source": [
    "class Module(object):\n",
    "    \"\"\"\n",
    "    Basically, you can think of a module as of a something (black box) \n",
    "    which can process `input` data and produce `ouput` data.\n",
    "    This is like applying a function which is called `forward`: \n",
    "        \n",
    "        output = module.forward(input)\n",
    "    \n",
    "    The module should be able to perform a backward pass: to differentiate the `forward` function. \n",
    "    Moreover, it should be able to differentiate it if is a part of chain (chain rule).\n",
    "    The latter implies there is a gradient from previous step of a chain rule. \n",
    "    \n",
    "        input_grad = module.backward(input, output_grad)\n",
    "    \"\"\"\n",
    "    def __init__ (self):\n",
    "        self._output = None\n",
    "        self._input_grad = None\n",
    "        self.training = True\n",
    "    \n",
    "    def forward(self, input):\n",
    "        \"\"\"\n",
    "        Takes an input object, and computes the corresponding output of the module.\n",
    "        \"\"\"\n",
    "        self._output = self._compute_output(input)\n",
    "        return self._output\n",
    "\n",
    "    def backward(self, input, output_grad):\n",
    "        \"\"\"\n",
    "        Performs a backpropagation step through the module, with respect to the given input.\n",
    "        \n",
    "        This includes \n",
    "         - computing a gradient w.r.t. `input` (is needed for further backprop),\n",
    "         - computing a gradient w.r.t. parameters (to update parameters while optimizing).\n",
    "        \"\"\"\n",
    "        self._input_grad = self._compute_input_grad(input, output_grad)\n",
    "        self._update_parameters_grad(input, output_grad)\n",
    "        return self._input_grad\n",
    "    \n",
    "\n",
    "    def _compute_output(self, input):\n",
    "        \"\"\"\n",
    "        Computes the output using the current parameter set of the class and input.\n",
    "        This function returns the result which will be stored in the `_output` field.\n",
    "\n",
    "        Example: in case of identity operation:\n",
    "        \n",
    "        output = input \n",
    "        return output\n",
    "        \"\"\"\n",
    "        raise NotImplementedError\n",
    "        \n",
    "    def _compute_input_grad(self, input, output_grad):\n",
    "        \"\"\"\n",
    "        Returns the gradient of the module with respect to its own input. \n",
    "        The shape of the returned value is always the same as the shape of `input`.\n",
    "        \n",
    "        Example: in case of identity operation:\n",
    "        input_grad = output_grad\n",
    "        return input_grad\n",
    "        \"\"\"\n",
    "        raise NotImplementedError\n",
    "    \n",
    "    def _update_parameters_grad(self, input, output_grad):\n",
    "        \"\"\"\n",
    "        Computing the gradient of the module with respect to its own parameters.\n",
    "        No need to override if module has no parameters (e.g. ReLU).\n",
    "        \"\"\"\n",
    "        pass\n",
    "    \n",
    "    def zero_grad(self): \n",
    "        \"\"\"\n",
    "        Zeroes `gradParams` variable if the module has params.\n",
    "        \"\"\"\n",
    "        pass\n",
    "        \n",
    "    def get_parameters(self):\n",
    "        \"\"\"\n",
    "        Returns a list with its parameters. \n",
    "        If the module does not have parameters return empty list. \n",
    "        \"\"\"\n",
    "        return []\n",
    "        \n",
    "    def get_parameters_grad(self):\n",
    "        \"\"\"\n",
    "        Returns a list with gradients with respect to its parameters. \n",
    "        If the module does not have parameters return empty list. \n",
    "        \"\"\"\n",
    "        return []\n",
    "    \n",
    "    def train(self):\n",
    "        \"\"\"\n",
    "        Sets training mode for the module.\n",
    "        Training and testing behaviour differs for Dropout, BatchNorm.\n",
    "        \"\"\"\n",
    "        self.training = True\n",
    "    \n",
    "    def evaluate(self):\n",
    "        \"\"\"\n",
    "        Sets evaluation mode for the module.\n",
    "        Training and testing behaviour differs for Dropout, BatchNorm.\n",
    "        \"\"\"\n",
    "        self.training = False\n",
    "    \n",
    "    def __repr__(self):\n",
    "        \"\"\"\n",
    "        Pretty printing. Should be overrided in every module if you want \n",
    "        to have readable description. \n",
    "        \"\"\"\n",
    "        return \"Module\""
   ]
  },
  {
   "cell_type": "markdown",
   "id": "b96f97c9",
   "metadata": {},
   "source": [
    "**Cell 4: Implement BatchNormalization **"
   ]
  },
  {
   "cell_type": "code",
   "execution_count": null,
   "id": "f6d0a397",
   "metadata": {},
   "outputs": [],
   "source": [
    "class BatchNormalization(Module):\n",
    "    EPS = 1e-3\n",
    "\n",
    "    def __init__(self, alpha=0.):\n",
    "        super(BatchNormalization, self).__init__()\n",
    "        self.alpha = alpha\n",
    "        # I keep moving_mean as an array so its shape matches feature dimension\n",
    "        self.moving_mean = np.array(0.)  # I keep moving_mean as an array for consistency with n_feats\n",
    "        self.moving_variance = np.array(1.)\n",
    "\n",
    "    def _compute_output(self, input):\n",
    "        if self.training:\n",
    "            batch_mean = np.mean(input, axis=0)\n",
    "            batch_var = np.var(input, axis=0, ddof=0)\n",
    "            # I update exponential moving averages for running statistics\n",
    "            self.moving_mean = self.moving_mean * self.alpha + batch_mean * (1 - self.alpha)\n",
    "            self.moving_variance = self.moving_variance * self.alpha + batch_var * (1 - self.alpha)\n",
    "            output = (input - batch_mean) / np.sqrt(batch_var + self.EPS)\n",
    "        else:\n",
    "            # I normalize using stored running statistics during evaluation\n",
    "            output = (input - self.moving_mean) / np.sqrt(self.moving_variance + self.EPS)\n",
    "        return output\n",
    "\n",
    "    def _compute_input_grad(self, input, output_grad):\n",
    "        if self.training:\n",
    "            batch_mean = np.mean(input, axis=0)\n",
    "            batch_var = np.var(input, axis=0, ddof=0)\n",
    "            N = input.shape[0]\n",
    "            ivar = 1.0 / np.sqrt(batch_var + self.EPS)\n",
    "            x_centered = input - batch_mean\n",
    "            # I compute gradient w.r.t. the normalized input (dxhat)\n",
    "            dxhat = output_grad * ivar\n",
    "            # I compute gradient w.r.t. variance (dvar) via chain rule through normalization\n",
    "            dvar = np.sum(output_grad * x_centered * (-0.5) * (batch_var + self.EPS) ** (-1.5), axis=0)\n",
    "            # I compute gradient w.r.t. mean (dmu) including direct path and the path through variance\n",
    "            dmu = np.sum(dxhat * (-1), axis=0) + dvar * np.sum(-2 * x_centered / N, axis=0)\n",
    "            # I combine partials to obtain full gradient w.r.t. input\n",
    "            grad_input = dxhat + dvar * (2 * x_centered / N) + (dmu / N)\n",
    "        else:\n",
    "            # During evaluation I scale the output gradient by inverse std computed from running variance\n",
    "            ivar = 1.0 / np.sqrt(self.moving_variance + self.EPS)\n",
    "            grad_input = output_grad * ivar\n",
    "        return grad_input\n",
    "\n",
    "    def __repr__(self):\n",
    "        return \"BatchNormalization\""
   ]
  },
  {
   "cell_type": "markdown",
   "id": "47f1e212",
   "metadata": {},
   "source": [
    "**Implement **Channel wiseScaling****"
   ]
  },
  {
   "cell_type": "code",
   "execution_count": 131,
   "id": "8a5dc905",
   "metadata": {},
   "outputs": [
    {
     "name": "stderr",
     "output_type": "stream",
     "text": [
      "<>:3: SyntaxWarning: invalid escape sequence '\\g'\n",
      "<>:3: SyntaxWarning: invalid escape sequence '\\g'\n",
      "C:\\Users\\pc\\AppData\\Local\\Temp\\ipykernel_3580\\2689071630.py:3: SyntaxWarning: invalid escape sequence '\\g'\n",
      "  Implements linear transform of input y = \\gamma * x + \\beta\n"
     ]
    }
   ],
   "source": [
    "class ChannelwiseScaling(Module):\n",
    "    \"\"\"\n",
    "       Implements linear transform of input y = \\gamma * x + \\beta\n",
    "       where \\gamma, \\beta - learnable vectors of length x.shape[-1]\n",
    "    \"\"\"\n",
    "    def __init__(self, n_out):\n",
    "        super(ChannelwiseScaling, self).__init__()\n",
    "\n",
    "        stdv = 1./np.sqrt(n_out)\n",
    "        self.gamma = np.random.uniform(-stdv, stdv, size=n_out)\n",
    "        self.beta = np.random.uniform(-stdv, stdv, size=n_out)\n",
    "        \n",
    "        self.gradGamma = np.zeros_like(self.gamma)\n",
    "        self.gradBeta = np.zeros_like(self.beta)\n",
    "\n",
    "    def _compute_output(self, input):\n",
    "        output = input * self.gamma + self.beta\n",
    "        return output\n",
    "        \n",
    "    def _compute_input_grad(self, input, output_grad):\n",
    "        grad_input = output_grad * self.gamma\n",
    "        return grad_input\n",
    "    \n",
    "    def _update_parameters_grad(self, input, output_grad):\n",
    "        self.gradBeta = np.sum(output_grad, axis=0)\n",
    "        self.gradGamma = np.sum(output_grad*input, axis=0)\n",
    "    \n",
    "    def zero_grad(self):\n",
    "        self.gradGamma.fill(0)\n",
    "        self.gradBeta.fill(0)\n",
    "        \n",
    "    def get_parameters(self):\n",
    "        return [self.gamma, self.beta]\n",
    "    \n",
    "    def get_parameters_grad(self):\n",
    "        return [self.gradGamma, self.gradBeta]\n",
    "    \n",
    "    def __repr__(self):\n",
    "        return \"ChannelwiseScaling\""
   ]
  },
  {
   "cell_type": "markdown",
   "id": "9c71365e",
   "metadata": {},
   "source": [
    "**Implement Dropout**"
   ]
  },
  {
   "cell_type": "code",
   "execution_count": 132,
   "id": "cce3f60e",
   "metadata": {},
   "outputs": [],
   "source": [
    "class Dropout(Module):\n",
    "    def __init__(self, p=0.5):\n",
    "        super(Dropout, self).__init__()\n",
    "        \n",
    "        self.p = p\n",
    "        self.mask = []\n",
    "        \n",
    "    def _compute_output(self, input):\n",
    "        if self.training:\n",
    "            self.mask = (np.random.rand(*input.shape) > self.p).astype(input.dtype)\n",
    "            output = input * self.mask / (1 - self.p)\n",
    "        else:\n",
    "            output = input\n",
    "        return output\n",
    "    \n",
    "    def _compute_input_grad(self, input, output_grad):\n",
    "        if self.training:\n",
    "            grad_input = output_grad * self.mask / (1 - self.p)\n",
    "        else:\n",
    "            grad_input = output_grad\n",
    "        return grad_input\n",
    "        \n",
    "    def __repr__(self):\n",
    "        return \"Dropout\""
   ]
  },
  {
   "cell_type": "markdown",
   "id": "9cd0a917",
   "metadata": {},
   "source": [
    "## Test for Layers"
   ]
  },
  {
   "cell_type": "code",
   "execution_count": 133,
   "id": "726d2f15",
   "metadata": {},
   "outputs": [
    {
     "name": "stdout",
     "output_type": "stream",
     "text": [
      "BatchNorm output shape: (4, 3)\n",
      "Dropout zeros count: 7\n",
      "Quick tests passed!\n"
     ]
    }
   ],
   "source": [
    "# I run a quick BatchNorm sanity check to ensure shapes and forward pass are correct\n",
    "bn = BatchNormalization(alpha=0.9)\n",
    "input_test = np.random.rand(4, 3).astype(np.float32)\n",
    "bn.train()\n",
    "out_bn = bn.forward(input_test)\n",
    "print(\"BatchNorm output shape:\", out_bn.shape)  # (4, 3)\n",
    "\n",
    "# I run a quick Dropout sanity check to verify masking behavior\n",
    "drop = Dropout(p=0.5)\n",
    "drop.train()\n",
    "out_drop = drop.forward(input_test)\n",
    "print(\"Dropout zeros count:\", np.sum(out_drop == 0))  # Some zeros\n",
    "\n",
    "print(\"Quick tests passed!\")"
   ]
  },
  {
   "cell_type": "markdown",
   "id": "4aaf16e8",
   "metadata": {},
   "source": [
    "## Full Unittest Suite"
   ]
  },
  {
   "cell_type": "code",
   "execution_count": 134,
   "id": "df9e39ba",
   "metadata": {},
   "outputs": [
    {
     "name": "stderr",
     "output_type": "stream",
     "text": [
      "test_BatchNormalization (__main__.TestLayers.test_BatchNormalization) ... "
     ]
    },
    {
     "name": "stderr",
     "output_type": "stream",
     "text": [
      "ok\n",
      "test_Dropout (__main__.TestLayers.test_Dropout) ... test_Dropout (__main__.TestLayers.test_Dropout) ... ok\n",
      "\n",
      "----------------------------------------------------------------------\n",
      "Ran 2 tests in 0.596s\n",
      "\n",
      "OK\n",
      "ok\n",
      "\n",
      "----------------------------------------------------------------------\n",
      "Ran 2 tests in 0.596s\n",
      "\n",
      "OK\n"
     ]
    },
    {
     "data": {
      "text/plain": [
       "<unittest.runner.TextTestResult run=2 errors=0 failures=0>"
      ]
     },
     "execution_count": 134,
     "metadata": {},
     "output_type": "execute_result"
    }
   ],
   "source": [
    "class TestLayers(unittest.TestCase):\n",
    "    \n",
    "    def test_BatchNormalization(self):\n",
    "        np.random.seed(42)\n",
    "        torch.manual_seed(42)\n",
    "\n",
    "        batch_size, n_in = 32, 16\n",
    "        for _ in range(100):\n",
    "            # layers initialization\n",
    "            slope = np.random.uniform(0.01, 0.05)\n",
    "            alpha = 0.9\n",
    "            custom_layer = BatchNormalization(alpha)\n",
    "            custom_layer.train()\n",
    "            torch_layer = torch.nn.BatchNorm1d(n_in, eps=custom_layer.EPS, momentum=1.-alpha, affine=False)\n",
    "            custom_layer.moving_mean = torch_layer.running_mean.numpy().copy()\n",
    "            custom_layer.moving_variance = torch_layer.running_var.numpy().copy()\n",
    "\n",
    "            layer_input = np.random.uniform(-5, 5, (batch_size, n_in)).astype(np.float32)\n",
    "            next_layer_grad = np.random.uniform(-5, 5, (batch_size, n_in)).astype(np.float32)\n",
    "\n",
    "            # 1. check layer output\n",
    "            custom_layer_output = custom_layer.forward(layer_input)\n",
    "            layer_input_var = Variable(torch.from_numpy(layer_input), requires_grad=True)\n",
    "            torch_layer_output_var = torch_layer(layer_input_var)\n",
    "            self.assertTrue(np.allclose(torch_layer_output_var.data.numpy(), custom_layer_output, atol=1e-6))\n",
    "\n",
    "            # 2. check layer input grad\n",
    "            custom_layer_grad = custom_layer.backward(layer_input, next_layer_grad)\n",
    "            torch_layer_output_var.backward(torch.from_numpy(next_layer_grad))\n",
    "            torch_layer_grad_var = layer_input_var.grad\n",
    "            # please, don't increase `atol` parameter, it's garanteed that you can implement batch norm layer\n",
    "            # with tolerance 1e-5\n",
    "            self.assertTrue(np.allclose(torch_layer_grad_var.data.numpy(), custom_layer_grad, atol=1e-5))\n",
    "\n",
    "            # 3. check moving mean\n",
    "            self.assertTrue(np.allclose(custom_layer.moving_mean, torch_layer.running_mean.numpy()))\n",
    "            # we don't check moving_variance because pytorch uses slightly different formula for it:\n",
    "            # it computes moving average for unbiased variance (i.e var*N/(N-1))\n",
    "            #self.assertTrue(np.allclose(custom_layer.moving_variance, torch_layer.running_var.numpy()))\n",
    "\n",
    "            # 4. check evaluation mode\n",
    "            custom_layer.moving_variance = torch_layer.running_var.numpy().copy()\n",
    "            custom_layer.evaluate()\n",
    "            custom_layer_output = custom_layer.forward(layer_input)\n",
    "            torch_layer.eval()\n",
    "            torch_layer_output_var = torch_layer(layer_input_var)\n",
    "            self.assertTrue(np.allclose(torch_layer_output_var.data.numpy(), custom_layer_output, atol=1e-6))\n",
    "\n",
    "    def test_Dropout(self):\n",
    "        np.random.seed(42)\n",
    "\n",
    "        batch_size, n_in = 2, 4\n",
    "        for _ in range(100):\n",
    "            # layers initialization\n",
    "            p = np.random.uniform(0.3, 0.7)\n",
    "            layer = Dropout(p)\n",
    "            layer.train()\n",
    "\n",
    "            layer_input = np.random.uniform(-5, 5, (batch_size, n_in)).astype(np.float32)\n",
    "            next_layer_grad = np.random.uniform(-5, 5, (batch_size, n_in)).astype(np.float32)\n",
    "\n",
    "            # 1. check layer output\n",
    "            layer_output = layer.forward(layer_input)\n",
    "            self.assertTrue(np.all(np.logical_or(np.isclose(layer_output, 0), \n",
    "                                        np.isclose(layer_output*(1.-p), layer_input))))\n",
    "\n",
    "            # 2. check layer input grad\n",
    "            layer_grad = layer.backward(layer_input, next_layer_grad)\n",
    "            self.assertTrue(np.all(np.logical_or(np.isclose(layer_grad, 0), \n",
    "                                        np.isclose(layer_grad*(1.-p), next_layer_grad))))\n",
    "\n",
    "            # 3. check evaluation mode\n",
    "            layer.evaluate()\n",
    "            layer_output = layer.forward(layer_input)\n",
    "            self.assertTrue(np.allclose(layer_output, layer_input))\n",
    "\n",
    "            # 4. check mask\n",
    "            p = 0.0\n",
    "            layer = Dropout(p)\n",
    "            layer.train()\n",
    "            layer_output = layer.forward(layer_input)\n",
    "            self.assertTrue(np.allclose(layer_output, layer_input))\n",
    "\n",
    "            p = 0.5\n",
    "            layer = Dropout(p)\n",
    "            layer.train()\n",
    "            layer_input = np.random.uniform(5, 10, (batch_size, n_in)).astype(np.float32)\n",
    "            next_layer_grad = np.random.uniform(5, 10, (batch_size, n_in)).astype(np.float32)\n",
    "            layer_output = layer.forward(layer_input)\n",
    "            zeroed_elem_mask = np.isclose(layer_output, 0)\n",
    "            layer_grad = layer.backward(layer_input, next_layer_grad)        \n",
    "            self.assertTrue(np.all(zeroed_elem_mask == np.isclose(layer_grad, 0)))\n",
    "\n",
    "            # 5. dropout mask should be generated independently for every input matrix element, not for row/column\n",
    "            batch_size, n_in = 1000, 1\n",
    "            p = 0.8\n",
    "            layer = Dropout(p)\n",
    "            layer.train()\n",
    "\n",
    "            layer_input = np.random.uniform(5, 10, (batch_size, n_in)).astype(np.float32)\n",
    "            layer_output = layer.forward(layer_input)\n",
    "            self.assertTrue(np.sum(np.isclose(layer_output, 0)) != layer_input.size)\n",
    "\n",
    "            layer_input = layer_input.T\n",
    "            layer_output = layer.forward(layer_input)\n",
    "            self.assertTrue(np.sum(np.isclose(layer_output, 0)) != layer_input.size)\n",
    "        \n",
    "\n",
    "suite = unittest.TestLoader().loadTestsFromTestCase(TestLayers)\n",
    "unittest.TextTestRunner(verbosity=2).run(suite)"
   ]
  },
  {
   "cell_type": "markdown",
   "id": "4477702a",
   "metadata": {},
   "source": [
    "## MNIST Binary Classification (3 vs 7)"
   ]
  },
  {
   "cell_type": "markdown",
   "id": "a9b93c08",
   "metadata": {},
   "source": [
    "**Load & Preprocess MNIST**"
   ]
  },
  {
   "cell_type": "code",
   "execution_count": 135,
   "id": "da2e6283",
   "metadata": {},
   "outputs": [],
   "source": [
    "transform = transforms.Compose([\n",
    "    transforms.ToTensor(),\n",
    "    transforms.Normalize((0.1307,), (0.3081,))\n",
    "])\n",
    "\n",
    "train_dataset = MNIST('.', train=True, download=True, transform=transform)\n",
    "test_dataset = MNIST('.', train=False, transform=transform)\n",
    "\n",
    "# Filter to 3 and 7\n",
    "train_dataset.data = train_dataset.data[(train_dataset.targets == 3) | (train_dataset.targets == 7)]\n",
    "train_dataset.targets = train_dataset.targets[(train_dataset.targets == 3) | (train_dataset.targets == 7)]\n",
    "\n",
    "test_dataset.data = test_dataset.data[(test_dataset.targets == 3) | (test_dataset.targets == 7)]\n",
    "test_dataset.targets = test_dataset.targets[(test_dataset.targets == 3) | (test_dataset.targets == 7)]\n",
    "\n",
    "train_dataset.targets = (train_dataset.targets == 7).long()\n",
    "test_dataset.targets = (test_dataset.targets == 7).long()\n",
    "\n",
    "train_loader = DataLoader(train_dataset, batch_size=128, shuffle=True)\n",
    "test_loader = DataLoader(test_dataset, batch_size=128, shuffle=False)"
   ]
  },
  {
   "cell_type": "code",
   "execution_count": null,
   "id": "dc3aa1cf",
   "metadata": {},
   "outputs": [
    {
     "data": {
      "image/png": "[encoded data removed]",
      "text/plain": [
       "<Figure size 1000x1000 with 25 Axes>"
      ]
     },
     "metadata": {},
     "output_type": "display_data"
    }
   ],
   "source": [
    "# I display sample images to visually inspect dataset labels (0 corresponds to digit 3, 1 corresponds to digit 7)\n",
    "fig, axes = plt.subplots(5, 5, figsize=(10, 10))\n",
    "for i, ax in enumerate(axes.flat):\n",
    "    if i < len(train_dataset):\n",
    "        img, label = train_dataset[i]\n",
    "        ax.imshow(img.squeeze(), cmap='gray')\n",
    "        ax.set_title(f'Label: {label}')\n",
    "        ax.axis('off')\n",
    "plt.tight_layout()\n",
    "plt.show()"
   ]
  },
  {
   "cell_type": "markdown",
   "id": "7a7cb8ec",
   "metadata": {},
   "source": [
    "## Implement Additional Layers for Model\n",
    "\n",
    "**Add Linear, ReLU, Sigmoid**"
   ]
  },
  {
   "cell_type": "code",
   "execution_count": null,
   "id": "0afde0ad",
   "metadata": {},
   "outputs": [],
   "source": [
    "# Linear\n",
    "class Linear(Module):\n",
    "    def __init__(self, n_in, n_out):\n",
    "        super().__init__()\n",
    "        # I use uniform initialization scaled by fan-in to keep initial activations reasonable\n",
    "        stdv = 1. / np.sqrt(n_in)\n",
    "        self.W = np.random.uniform(-stdv, stdv, (n_in, n_out))\n",
    "        self.b = np.random.uniform(-stdv, stdv, n_out)\n",
    "        self.gradW = np.zeros_like(self.W)\n",
    "        self.gradb = np.zeros_like(self.b)\n",
    "\n",
    "    def _compute_output(self, input):\n",
    "        # I cache the input to compute parameter gradients during the backward pass\n",
    "        self.input_cache = input  # For backward\n",
    "        return input @ self.W + self.b\n",
    "\n",
    "    def _compute_input_grad(self, input, output_grad):\n",
    "        # I compute gradient w.r.t. input using the transposed weight matrix\n",
    "        return output_grad @ self.W.T\n",
    "\n",
    "    def _update_parameters_grad(self, input, output_grad):\n",
    "        # I compute gradients for weights and biases using current batch statistics\n",
    "        self.gradW = input.T @ output_grad\n",
    "        self.gradb = np.sum(output_grad, axis=0)\n",
    "\n",
    "    def zero_grad(self):\n",
    "        # I reset stored parameter gradients to zero before the next optimization step\n",
    "        self.gradW.fill(0)\n",
    "        self.gradb.fill(0)\n",
    "\n",
    "    def get_parameters(self):\n",
    "        return [self.W, self.b]\n",
    "\n",
    "    def get_parameters_grad(self):\n",
    "        return [self.gradW, self.gradb]\n",
    "\n",
    "    def __repr__(self):\n",
    "        return f\"Linear({self.W.shape[0]},{self.W.shape[1]})\"\n",
    "\n",
    "# ReLU\n",
    "class ReLU(Module):\n",
    "    def _compute_output(self, input):\n",
    "        # I cache input to identify active neurons during backprop\n",
    "        self.input_cache = input  # For backward\n",
    "        return np.maximum(0, input)\n",
    "\n",
    "    def _compute_input_grad(self, input, output_grad):\n",
    "        # I pass gradient only through positive activations\n",
    "        return output_grad * (input > 0)\n",
    "\n",
    "    def __repr__(self):\n",
    "        return \"ReLU\"\n",
    "\n",
    "# Sigmoid (simple, assume provided)\n",
    "class Sigmoid(Module):\n",
    "    def _compute_output(self, input):\n",
    "        # I clip input for numerical stability and compute sigmoid activation\n",
    "        self.input_cache = input\n",
    "        out = 1 / (1 + np.exp(-np.clip(input, -250, 250)))  # Stable\n",
    "        return out\n",
    "\n",
    "    def _compute_input_grad(self, input, output_grad):\n",
    "        # I compute gradient using stored output (sigmoid * (1 - sigmoid))\n",
    "        out = self._output  # Use stored output\n",
    "        return output_grad * out * (1 - out)\n",
    "\n",
    "    def __repr__(self):\n",
    "        return \"Sigmoid\"\n",
    "\n",
    "# BCELoss (as a class for consistency)\n",
    "class BCELoss:\n",
    "    def __init__(self):\n",
    "        pass\n",
    "\n",
    "    def forward(self, input, target):\n",
    "        # I compute stable binary cross-entropy by applying a numerically stable sigmoid\n",
    "        logits = input\n",
    "        # I compute sigmoid in a stable manner to avoid overflow/underflow\n",
    "        max_logit = np.max(logits, axis=1, keepdims=True)\n",
    "        exp_logit = np.exp(logits - max_logit)\n",
    "        p = exp_logit / np.sum(exp_logit, axis=1, keepdims=True)  # intermediate (not used for binary)\n",
    "        # For the binary case I compute sigmoid directly with clipping for stability\n",
    "        p = 1 / (1 + np.exp(-np.clip(logits, -250, 250)))\n",
    "        # I compute mean cross-entropy over the batch\n",
    "        loss = -np.mean(target * np.log(p + 1e-8) + (1 - target) * np.log(1 - p + 1e-8))\n",
    "        self.output = loss\n",
    "        # I store gradient w.r.t. logits which is (p - y) for binary cross-entropy\n",
    "        self.input_grad = p - target  # Grad w.r.t. logits: p - y (stable!)\n",
    "        return loss\n",
    "\n",
    "    def backward(self):\n",
    "        # I return the previously computed gradient w.r.t. logits\n",
    "        return self.input_grad"
   ]
  },
  {
   "cell_type": "markdown",
   "id": "dee6d779",
   "metadata": {},
   "source": [
    "# Define Model & Training Class"
   ]
  },
  {
   "cell_type": "code",
   "execution_count": null,
   "id": "5dd784b2",
   "metadata": {},
   "outputs": [],
   "source": [
    "import numpy as np  \n",
    "from tqdm import tqdm  \n",
    "\n",
    "class Classifier:\n",
    "    def __init__(self, lr=0.001, use_batchnorm=False):\n",
    "        np.random.seed(42)  # I set seed for reproducible initialization\n",
    "        # I insert BatchNormalization between linear and activation layers when enabled to stabilize training\n",
    "        if use_batchnorm:\n",
    "            self.layers = [\n",
    "                Linear(784, 256), BatchNormalization(), ReLU(),\n",
    "                Linear(256, 128), BatchNormalization(), ReLU(),\n",
    "                Dropout(0.2),\n",
    "                Linear(128, 1)\n",
    "            ]\n",
    "        else:\n",
    "            self.layers = [\n",
    "                Linear(784, 256), ReLU(),\n",
    "                Linear(256, 128), ReLU(),\n",
    "                Dropout(0.2),\n",
    "                Linear(128, 1)\n",
    "            ]\n",
    "        self.bce = BCELoss()\n",
    "        self.lr = lr\n",
    "        self.momentum = 0.9\n",
    "        # I prepare an empty list for per-parameter velocity arrays; initialization happens on first update\n",
    "        self.velocities = []\n",
    "        self.train_losses = []\n",
    "        self.train_accs = []\n",
    "        self.test_accs = []\n",
    "\n",
    "    def forward(self, x):\n",
    "        # I store intermediate layer outputs to use them as inputs during the backward pass\n",
    "        self.layer_inputs = [x]  # Store initial input\n",
    "        current = x\n",
    "        for layer in self.layers:\n",
    "            current = layer.forward(current)\n",
    "            self.layer_inputs.append(current)  # Output of this = input to next\n",
    "        return current\n",
    "\n",
    "    def predict(self, x):\n",
    "        # I run the model in evaluation mode and threshold outputs to obtain binary predictions\n",
    "        self.evaluate()\n",
    "        out = self.forward(x)\n",
    "        return (out > 0.5).astype(int).flatten()\n",
    "\n",
    "    def backward(self, x, y):\n",
    "        # I run forward to compute outputs and cache activations for backprop\n",
    "        out = self.forward(x)\n",
    "        # I compute loss and the initial gradient coming from loss layer\n",
    "        loss = self.bce.forward(out, y)\n",
    "        grad = self.bce.backward()  # This grad has shape (batch_size, 1)\n",
    "        # I propagate gradients through layers in reverse order, using stored inputs for each layer\n",
    "        num_layers = len(self.layers)\n",
    "        for i in range(num_layers):\n",
    "            layer = self.layers[num_layers - 1 - i]  # Get layer in reverse order\n",
    "            layer_input = self.layer_inputs[num_layers - 1 - i]  # Get the exact input that layer saw\n",
    "            grad = layer.backward(layer_input, grad)  # Compute grad for this layer, update for next\n",
    "        # I return the batch-averaged loss value produced by BCELoss\n",
    "        return loss\n",
    "\n",
    "    def update_params(self):\n",
    "        # I collect all parameters and their corresponding gradients from modules\n",
    "        all_params = []\n",
    "        all_grads = []\n",
    "        for layer in self.layers:\n",
    "            params = layer.get_parameters()\n",
    "            grads = layer.get_parameters_grad()\n",
    "            all_params.extend(params)\n",
    "            all_grads.extend(grads)\n",
    "        # I initialize velocities once to match parameter shapes\n",
    "        if len(self.velocities) == 0 and len(all_params) > 0:\n",
    "            self.velocities = [np.zeros_like(p) for p in all_params]\n",
    "        # I apply SGD with momentum: v = mu*v - lr*g; then update parameters in-place by adding v\n",
    "        for i, (p, g) in enumerate(zip(all_params, all_grads)):\n",
    "            self.velocities[i] = self.momentum * self.velocities[i] - self.lr * g\n",
    "            p += self.velocities[i]\n",
    "        # I reset module-level gradients after parameters are updated\n",
    "        for layer in self.layers:\n",
    "            layer.zero_grad()  # Reset for next batch\n",
    "\n",
    "    def train_epoch(self, loader):\n",
    "        # I set all modules to training mode so that Dropout and BatchNorm behave correctly\n",
    "        self.train()  # Set layers to train mode\n",
    "        total_loss = 0.0\n",
    "        correct = 0\n",
    "        total = 0\n",
    "        for batch_x, batch_y in tqdm(loader):\n",
    "            x = batch_x.reshape(-1, 784).numpy().astype(np.float32)\n",
    "            y = batch_y.numpy().astype(np.float32).reshape(-1, 1)\n",
    "            # I compute gradients and update parameters for this batch\n",
    "            loss = self.backward(x, y)\n",
    "            self.update_params()\n",
    "            # I accumulate total loss in per-sample terms for epoch averaging\n",
    "            batch_n = x.shape[0]\n",
    "            try:\n",
    "                total_loss += float(loss) * batch_n\n",
    "            except Exception:\n",
    "                total_loss += loss * batch_n\n",
    "            # I run forward again to obtain predictions for metric calculation (simple approach)\n",
    "            pred = (self.forward(x) > 0.5).astype(int).flatten()\n",
    "            correct += np.sum(pred == y.flatten())\n",
    "            total += batch_n\n",
    "        acc = correct / total if total > 0 else 0\n",
    "        # I compute average loss per sample across the epoch\n",
    "        avg_loss = total_loss / total if total > 0 else 0\n",
    "        self.train_losses.append(avg_loss)\n",
    "        self.train_accs.append(acc)\n",
    "        return avg_loss, acc\n",
    "\n",
    "    def test(self, loader):\n",
    "        # I set modules to evaluation mode to disable dropout and use running stats for BatchNorm\n",
    "        self.evaluate()  # Set to eval mode\n",
    "        correct = 0\n",
    "        total = 0\n",
    "        for batch_x, batch_y in loader:\n",
    "            x = batch_x.reshape(-1, 784).numpy().astype(np.float32)\n",
    "            y = batch_y.numpy().astype(np.float32).reshape(-1, 1)\n",
    "            pred = (self.forward(x) > 0.5).astype(int).flatten()\n",
    "            correct += np.sum(pred == y.flatten())\n",
    "            total += len(y)\n",
    "        acc = correct / total if total > 0 else 0\n",
    "        self.test_accs.append(acc)\n",
    "        return acc\n",
    "\n",
    "    def train(self):\n",
    "        for layer in self.layers:\n",
    "            layer.train()\n",
    "\n",
    "    def evaluate(self):\n",
    "        for layer in self.layers:\n",
    "            layer.evaluate()\n",
    "\n",
    "# Re-instantiate after replacement\n",
    "classifier = Classifier(lr=0.001, use_batchnorm=True)"
   ]
  },
  {
   "cell_type": "markdown",
   "id": "e13e1367",
   "metadata": {},
   "source": [
    "### Train the Mode"
   ]
  },
  {
   "cell_type": "code",
   "execution_count": null,
   "id": "d1f9bd50",
   "metadata": {},
   "outputs": [
    {
     "name": "stdout",
     "output_type": "stream",
     "text": [
      "Epoch 1/20\n"
     ]
    },
    {
     "name": "stderr",
     "output_type": "stream",
     "text": [
      "100%|██████████| 97/97 [00:10<00:00,  9.26it/s]\n",
      "\n"
     ]
    },
    {
     "name": "stdout",
     "output_type": "stream",
     "text": [
      "Train Loss: 0.0450, Train Acc: 0.9922, Test Acc: 0.9917\n",
      "Epoch 2/20\n"
     ]
    },
    {
     "name": "stderr",
     "output_type": "stream",
     "text": [
      "100%|██████████| 97/97 [00:07<00:00, 12.43it/s]\n",
      "\n"
     ]
    },
    {
     "name": "stdout",
     "output_type": "stream",
     "text": [
      "Train Loss: 0.0123, Train Acc: 0.9973, Test Acc: 0.9936\n",
      "Epoch 3/20\n"
     ]
    },
    {
     "name": "stderr",
     "output_type": "stream",
     "text": [
      "100%|██████████| 97/97 [00:19<00:00,  4.98it/s]\n",
      "\n"
     ]
    },
    {
     "name": "stdout",
     "output_type": "stream",
     "text": [
      "Train Loss: 0.0063, Train Acc: 0.9988, Test Acc: 0.9931\n",
      "Epoch 4/20\n"
     ]
    },
    {
     "name": "stderr",
     "output_type": "stream",
     "text": [
      "100%|██████████| 97/97 [00:12<00:00,  7.65it/s]\n",
      "100%|██████████| 97/97 [00:12<00:00,  7.65it/s]\n"
     ]
    },
    {
     "name": "stdout",
     "output_type": "stream",
     "text": [
      "Train Loss: 0.0041, Train Acc: 0.9995, Test Acc: 0.9951\n",
      "Epoch 5/20\n"
     ]
    },
    {
     "name": "stderr",
     "output_type": "stream",
     "text": [
      "100%|██████████| 97/97 [00:06<00:00, 14.67it/s]\n",
      "\n"
     ]
    },
    {
     "name": "stdout",
     "output_type": "stream",
     "text": [
      "Train Loss: 0.0030, Train Acc: 0.9997, Test Acc: 0.9966\n",
      "Epoch 6/20\n"
     ]
    },
    {
     "name": "stderr",
     "output_type": "stream",
     "text": [
      "100%|██████████| 97/97 [00:06<00:00, 14.99it/s]\n",
      "\n"
     ]
    },
    {
     "name": "stdout",
     "output_type": "stream",
     "text": [
      "Train Loss: 0.0018, Train Acc: 0.9999, Test Acc: 0.9936\n",
      "Epoch 7/20\n"
     ]
    },
    {
     "name": "stderr",
     "output_type": "stream",
     "text": [
      "100%|██████████| 97/97 [00:09<00:00, 10.51it/s]\n",
      "\n"
     ]
    },
    {
     "name": "stdout",
     "output_type": "stream",
     "text": [
      "Train Loss: 0.0010, Train Acc: 0.9998, Test Acc: 0.9956\n",
      "Epoch 8/20\n"
     ]
    },
    {
     "name": "stderr",
     "output_type": "stream",
     "text": [
      "100%|██████████| 97/97 [00:11<00:00,  8.30it/s]\n",
      "\n"
     ]
    },
    {
     "name": "stdout",
     "output_type": "stream",
     "text": [
      "Train Loss: 0.0013, Train Acc: 1.0000, Test Acc: 0.9907\n",
      "Epoch 9/20\n"
     ]
    },
    {
     "name": "stderr",
     "output_type": "stream",
     "text": [
      "100%|██████████| 97/97 [00:14<00:00,  6.53it/s]\n",
      "\n"
     ]
    },
    {
     "name": "stdout",
     "output_type": "stream",
     "text": [
      "Train Loss: 0.0005, Train Acc: 1.0000, Test Acc: 0.9956\n",
      "Epoch 10/20\n"
     ]
    },
    {
     "name": "stderr",
     "output_type": "stream",
     "text": [
      "100%|██████████| 97/97 [00:14<00:00,  6.80it/s]\n",
      "\n"
     ]
    },
    {
     "name": "stdout",
     "output_type": "stream",
     "text": [
      "Train Loss: 0.0010, Train Acc: 1.0000, Test Acc: 0.9961\n",
      "Epoch 11/20\n"
     ]
    },
    {
     "name": "stderr",
     "output_type": "stream",
     "text": [
      "100%|██████████| 97/97 [00:11<00:00,  8.60it/s]\n",
      "\n"
     ]
    },
    {
     "name": "stdout",
     "output_type": "stream",
     "text": [
      "Train Loss: 0.0015, Train Acc: 1.0000, Test Acc: 0.9946\n",
      "Epoch 12/20\n"
     ]
    },
    {
     "name": "stderr",
     "output_type": "stream",
     "text": [
      "100%|██████████| 97/97 [00:09<00:00, 10.24it/s]\n",
      "\n"
     ]
    },
    {
     "name": "stdout",
     "output_type": "stream",
     "text": [
      "Train Loss: 0.0013, Train Acc: 0.9999, Test Acc: 0.9946\n",
      "Epoch 13/20\n"
     ]
    },
    {
     "name": "stderr",
     "output_type": "stream",
     "text": [
      "100%|██████████| 97/97 [00:11<00:00,  8.48it/s]\n",
      "100%|██████████| 97/97 [00:11<00:00,  8.48it/s]\n"
     ]
    },
    {
     "name": "stdout",
     "output_type": "stream",
     "text": [
      "Train Loss: 0.0008, Train Acc: 1.0000, Test Acc: 0.9941\n",
      "Epoch 14/20\n"
     ]
    },
    {
     "name": "stderr",
     "output_type": "stream",
     "text": [
      "100%|██████████| 97/97 [00:10<00:00,  9.22it/s]\n",
      "\n"
     ]
    },
    {
     "name": "stdout",
     "output_type": "stream",
     "text": [
      "Train Loss: 0.0008, Train Acc: 0.9999, Test Acc: 0.9926\n",
      "Epoch 15/20\n"
     ]
    },
    {
     "name": "stderr",
     "output_type": "stream",
     "text": [
      "100%|██████████| 97/97 [00:09<00:00, 10.24it/s]\n",
      "\n"
     ]
    },
    {
     "name": "stdout",
     "output_type": "stream",
     "text": [
      "Train Loss: 0.0002, Train Acc: 1.0000, Test Acc: 0.9971\n",
      "Epoch 16/20\n"
     ]
    },
    {
     "name": "stderr",
     "output_type": "stream",
     "text": [
      "100%|██████████| 97/97 [00:11<00:00,  8.61it/s]\n",
      "\n"
     ]
    },
    {
     "name": "stdout",
     "output_type": "stream",
     "text": [
      "Train Loss: 0.0004, Train Acc: 1.0000, Test Acc: 0.9966\n",
      "Epoch 17/20\n"
     ]
    },
    {
     "name": "stderr",
     "output_type": "stream",
     "text": [
      "100%|██████████| 97/97 [00:11<00:00,  8.26it/s]\n",
      "\n"
     ]
    },
    {
     "name": "stdout",
     "output_type": "stream",
     "text": [
      "Train Loss: 0.0002, Train Acc: 1.0000, Test Acc: 0.9951\n",
      "Epoch 18/20\n"
     ]
    },
    {
     "name": "stderr",
     "output_type": "stream",
     "text": [
      "100%|██████████| 97/97 [00:11<00:00,  8.67it/s]\n",
      "\n"
     ]
    },
    {
     "name": "stdout",
     "output_type": "stream",
     "text": [
      "Train Loss: 0.0002, Train Acc: 1.0000, Test Acc: 0.9971\n",
      "Epoch 19/20\n"
     ]
    },
    {
     "name": "stderr",
     "output_type": "stream",
     "text": [
      "100%|██████████| 97/97 [00:10<00:00,  9.18it/s]\n",
      "\n"
     ]
    },
    {
     "name": "stdout",
     "output_type": "stream",
     "text": [
      "Train Loss: 0.0001, Train Acc: 1.0000, Test Acc: 0.9951\n",
      "Epoch 20/20\n"
     ]
    },
    {
     "name": "stderr",
     "output_type": "stream",
     "text": [
      "100%|██████████| 97/97 [00:10<00:00,  9.51it/s]\n",
      "\n"
     ]
    },
    {
     "name": "stdout",
     "output_type": "stream",
     "text": [
      "Train Loss: 0.0001, Train Acc: 1.0000, Test Acc: 0.9946\n"
     ]
    }
   ],
   "source": [
    "# I tried increasing epochs to 10-20 and tuning lr (e.g. 1e-3, 5e-4)\n",
    "epochs = 20\n",
    "for epoch in range(epochs):\n",
    "    print(f\"Epoch {epoch+1}/{epochs}\")\n",
    "    train_loss, train_acc = classifier.train_epoch(train_loader)\n",
    "    test_acc = classifier.test(test_loader)\n",
    "    # test returns accuracy (single value)\n",
    "    print(f\"Train Loss: {train_loss:.4f}, Train Acc: {train_acc:.4f}, Test Acc: {test_acc:.4f}\")"
   ]
  },
  {
   "cell_type": "code",
   "execution_count": 141,
   "id": "d786080d",
   "metadata": {},
   "outputs": [
    {
     "data": {
      "image/png": "[encoded data removed]",
      "text/plain": [
       "<Figure size 1200x400 with 2 Axes>"
      ]
     },
     "metadata": {},
     "output_type": "display_data"
    },
    {
     "name": "stdout",
     "output_type": "stream",
     "text": [
      "Final Test Accuracy: 0.9946\n"
     ]
    }
   ],
   "source": [
    "# Plot accs\n",
    "plt.figure(figsize=(12, 4))\n",
    "plt.subplot(1, 2, 1)\n",
    "plt.plot(classifier.train_accs, label='Train Acc')\n",
    "plt.plot(classifier.test_accs, label='Test Acc')\n",
    "plt.xlabel('Epoch')\n",
    "plt.ylabel('Accuracy')\n",
    "plt.legend()\n",
    "\n",
    "plt.subplot(1, 2, 2)\n",
    "plt.plot(classifier.train_losses, label='Train Loss')\n",
    "plt.xlabel('Epoch')\n",
    "plt.ylabel('Loss')\n",
    "plt.legend()\n",
    "plt.show()\n",
    "\n",
    "print(f\"Final Test Accuracy: {classifier.test_accs[-1]:.4f}\")"
   ]
  },
  {
   "cell_type": "code",
   "execution_count": null,
   "id": "34009b1e",
   "metadata": {},
   "outputs": [
    {
     "name": "stdout",
     "output_type": "stream",
     "text": [
      "Classification Report:\n",
      "              precision    recall  f1-score   support\n",
      "\n",
      "           3       0.99      1.00      1.00      1010\n",
      "           7       1.00      0.99      1.00      1028\n",
      "\n",
      "    accuracy                           1.00      2038\n",
      "   macro avg       1.00      1.00      1.00      2038\n",
      "weighted avg       1.00      1.00      1.00      2038\n",
      "\n",
      "Final Test Acc: 0.9951\n"
     ]
    }
   ],
   "source": [
    "# I compute final classification metrics on the test set and print a detailed report\n",
    "from sklearn.metrics import classification_report\n",
    "classifier.evaluate()\n",
    "all_preds = []\n",
    "all_ys = []\n",
    "for batch_x, batch_y in test_loader:\n",
    "    x = batch_x.reshape(-1, 784).numpy().astype(np.float32)\n",
    "    # I threshold raw outputs to obtain binary predictions\n",
    "    pred = (classifier.forward(x) > 0.5).astype(int).flatten()\n",
    "    all_preds.extend(pred)\n",
    "    all_ys.extend(batch_y.numpy())\n",
    "print(\"Classification Report:\")\n",
    "print(classification_report(all_ys, all_preds, target_names=['3', '7']))\n",
    "print(f\"Final Test Acc: {accuracy_score(all_ys, all_preds):.4f}\")"
   ]
  },
  {
   "cell_type": "code",
   "execution_count": null,
   "id": "d7e527f0",
   "metadata": {},
   "outputs": [],
   "source": []
  },
  {
   "cell_type": "markdown",
   "id": "c58da2cf",
   "metadata": {},
   "source": [
    "## Summary and Conclusion\n",
    "\n",
    "In this home work task-2 implements custom neural network building blocks and uses them to perform a binary classification task on MNIST (digits 3 vs 7). The core parts include a base `Module` interface, `Linear` layers with basic weight and bias storage, `ReLU` and `Sigmoid` activations, `Dropout`, `BatchNormalization`, and a simple `BCELoss` for binary cross-entropy. A compact `Classifier` composes these modules into a small feed-forward model and provides forward, backward, parameter-update, training, and test routines.\n",
    "\n",
    "Several practical fixes and small improvements were applied to make training work reliably: the optimizer update was corrected so parameter velocities initialize once and are used in-place with momentum; batch loss accumulation was changed to compute an average per sample for clearer reporting; a `predict` helper was added for evaluation; and optional batch normalization was added to stabilize optimization. Quick unit-style checks for BatchNorm and Dropout confirm basic behavior, and plotting cells visualize loss and accuracy across epochs.\n",
    "\n",
    "**Conclusion**: with the corrected optimizer and the optional batch normalization, the training process becomes stable and starts to converge. For higher final accuracy, the following steps are recommended as next work: switch to an adaptive optimizer (Adam), replace the MLP with a small convolutional network (ConvNet) for image data, run longer training with a tuned learning-rate schedule, and apply simple data augmentations. These steps are expected to yield the largest accuracy gains with minimal additional complexity."
   ]
  },
  {
   "cell_type": "markdown",
   "id": "1ca39b24",
   "metadata": {},
   "source": []
  }
 ],
 "metadata": {
  "kernelspec": {
   "display_name": "Python 3",
   "language": "python",
   "name": "python3"
  },
  "language_info": {
   "codemirror_mode": {
    "name": "ipython",
    "version": 3
   },
   "file_extension": ".py",
   "mimetype": "text/x-python",
   "name": "python",
   "nbconvert_exporter": "python",
   "pygments_lexer": "ipython3",
   "version": "3.12.10"
  }
 },
 "nbformat": 4,
 "nbformat_minor": 5
}
